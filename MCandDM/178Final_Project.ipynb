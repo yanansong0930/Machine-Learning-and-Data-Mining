{
  "nbformat": 4,
  "nbformat_minor": 0,
  "metadata": {
    "colab": {
      "name": "178Final Project.ipynb",
      "provenance": [],
      "collapsed_sections": [],
      "toc_visible": true,
      "machine_shape": "hm"
    },
    "kernelspec": {
      "name": "python3",
      "display_name": "Python 3"
    },
    "accelerator": "GPU"
  },
  "cells": [
    {
      "cell_type": "code",
      "metadata": {
        "id": "0iUCZKHcEQtv",
        "colab": {
          "base_uri": "https://localhost:8080/",
          "height": 73
        },
        "outputId": "0327e067-ddd2-4d6e-f6c7-c0e972b958e1"
      },
      "source": [
        "import csv\n",
        "import numpy as np\n",
        "import pandas as pd\n",
        "import matplotlib.pyplot as plt\n",
        "import time\n",
        "np.random.seed(0)\n",
        "data_path = '/content/diabetic_data.csv'\n",
        "\n",
        "df = pd.read_csv(data_path, na_filter=True, na_values=['?', np.nan])"
      ],
      "execution_count": null,
      "outputs": [
        {
          "output_type": "stream",
          "text": [
            "/usr/local/lib/python3.6/dist-packages/IPython/core/interactiveshell.py:2718: DtypeWarning: Columns (10) have mixed types. Specify dtype option on import or set low_memory=False.\n",
            "  interactivity=interactivity, compiler=compiler, result=result)\n"
          ],
          "name": "stderr"
        }
      ]
    },
    {
      "cell_type": "markdown",
      "metadata": {
        "id": "6wJDhoJr4Kmf"
      },
      "source": [
        "Data set has 49 features and 101766 lines."
      ]
    },
    {
      "cell_type": "markdown",
      "metadata": {
        "id": "8OKOWZ3_MumW"
      },
      "source": [
        "Shuffle and split the dataset into:  \n",
        "a). 70% of the entire Dataset for training (Training data)  \n",
        "b). 15% of the entire Dataset for validation (Validation data)  \n",
        "c). 15% of the entire Dataset for testing (Testing data)"
      ]
    },
    {
      "cell_type": "code",
      "metadata": {
        "id": "qy9nzTLgY6_A"
      },
      "source": [
        "# Based on ID_mapping.csv, 11, 19, 20, 21 are related to that patient expire. So we should remove these data.\n",
        "df = df.loc[~df.discharge_disposition_id.isin([11,19,20,21])]\n",
        "\n",
        "df = df.loc[~df.gender.isin(['Unknown/Invalid'])]\n",
        "\n",
        "df = df.loc[~df.acetohexamide.isin(['Steady'])] #Only 1 Steady entry, exlude from dataset.\n",
        "df = df.loc[~df.troglitazone.isin(['Steady'])]\n",
        "# df = df.loc[~df.glimepiride-pioglitazone.isin(['Steady'])]#Only 1 Steady entry, exlude from dataset.\n",
        "df = df.drop(['payer_code'], axis=1)\n",
        "\n",
        "# diag_1, 2, 3 has unknown data like V58, V27\n",
        "\n",
        "#df = df.drop(['diag_1'], axis=1)\n",
        "#df = df.drop(['diag_2'], axis=1)\n",
        "#df = df.drop(['diag_3'], axis=1)\n",
        "\n",
        "# All \"no\"\n",
        "df = df.drop(['acetohexamide'], axis=1)\n",
        "df = df.drop(['troglitazone'], axis=1)\n",
        "df = df.drop(['glimepiride-pioglitazone'], axis=1)\n",
        "\n",
        "# Too many Null entry\n",
        "# df = df.drop(['weight'], axis=1)\n",
        "\n",
        "df = df.drop(['encounter_id'], axis=1)\n",
        "df = df.drop(['patient_nbr'], axis=1)\n",
        "\n",
        "#Drop diag_x = 783\n",
        "indexNames = df[df['diag_1'] == \"783\" ].index\n",
        "df.drop(indexNames , inplace=True)\n",
        "indexNames = df[df['diag_2'] == \"783\" ].index\n",
        "df.drop(indexNames , inplace=True)\n",
        "indexNames = df[df['diag_3'] == \"783\" ].index\n",
        "df.drop(indexNames , inplace=True)\n",
        "\n",
        "\n",
        "indexNames = df[df['diag_1'] == \"789\" ].index\n",
        "df.drop(indexNames , inplace=True)\n",
        "indexNames = df[df['diag_2'] == \"789\" ].index\n",
        "df.drop(indexNames , inplace=True)\n",
        "indexNames = df[df['diag_3'] == \"789\" ].index\n",
        "df.drop(indexNames , inplace=True)\n"
      ],
      "execution_count": null,
      "outputs": []
    },
    {
      "cell_type": "markdown",
      "metadata": {
        "id": "3Iwu-FyAbdes"
      },
      "source": [
        "The number of unique variable in medical_speciality is so large. So we will group thses variables into 11 groups(top 10 specialities + other)"
      ]
    },
    {
      "cell_type": "code",
      "metadata": {
        "id": "qoUWZ0OlVyTb"
      },
      "source": [
        "top10 = ['InternalMedicine','Family/GeneralPractice','Cardiology','Surgery-General',\\\n",
        "         'Orthopedics-Reconstructive','Orthopedics','Nephrology','Psychiatry','Pulmonology','Emergency/Trauma']\n",
        "\n",
        "df.loc[~df.medical_specialty.isin(top10),'medical_specialty'] = 'Other'"
      ],
      "execution_count": null,
      "outputs": []
    },
    {
      "cell_type": "code",
      "metadata": {
        "id": "BSZSVjpQ5kzU"
      },
      "source": [
        "df_train, df_validate, df_test = np.split(df.sample(frac=1), [int(.7*len(df)), int(.85*len(df))])\n",
        "\n",
        "# readmitted: NO = 0, <30 = 1, >30 = 0\n",
        "readmitted = {'NO':0,'<30':1,'>30':0}\n",
        "y_train = df_train[\"readmitted\"].replace(readmitted)\n",
        "y_validate = df_validate[\"readmitted\"].replace(readmitted)\n",
        "y_test = df_test[\"readmitted\"].replace(readmitted)\n",
        "\n",
        "df_train = df_train.drop(['readmitted'], axis=1)\n",
        "df_validate = df_validate.drop(['readmitted'], axis=1)\n",
        "df_test = df_test.drop(['readmitted'], axis=1)\n",
        "\n",
        "# gender: Female=0,Male=1\n",
        "gender = {'Female':0,'Male':1}\n",
        "df_train['gender'] = df_train[\"gender\"].replace(gender)\n",
        "df_validate['gender'] = df_validate[\"gender\"].replace(gender)\n",
        "df_test['gender'] = df_test[\"gender\"].replace(gender)\n",
        "\n",
        "age = {'[0-10)':0,'[10-20)':1,'[20-30)':2, '[30-40)': 3, '[40-50)':4, '[50-60)':5, '[60-70)':6, '[70-80)':7, '[80-90)':8, '[90-100)':9}\n",
        "df_train['age'] = df_train[\"age\"].replace(age)\n",
        "df_validate['age'] = df_validate[\"age\"].replace(age)\n",
        "df_test['age'] = df_test[\"age\"].replace(age)\n",
        "\n",
        "race = {'AfricanAmerican':0, 'Asian':1, 'Caucasian':2, 'Hispanic':3, 'Other':4}\n",
        "df_train['race'] = df_train[\"race\"].replace(race)\n",
        "df_validate['race'] = df_validate[\"race\"].replace(race)\n",
        "df_test['race'] = df_test[\"race\"].replace(race)\n",
        "\n",
        "weight = {'[0-25)':0,'[25-50)':1, '[50-75)':2, '[75-100)':3, '[100-125)':4, '[125-150)':5, '[150-175)':6, '[175-200)':7, '>200':8}\n",
        "df_train['weight'] = df_train[\"weight\"].replace(weight)\n",
        "df_validate['weight'] = df_validate[\"weight\"].replace(weight)\n",
        "df_test['weight'] = df_test[\"weight\"].replace(weight)\n",
        "\n",
        "max_glu_serum = {'None':0, 'Norm':1, '>200': 2, '>300': 3}\n",
        "df_train['max_glu_serum'] = df_train[\"max_glu_serum\"].replace(max_glu_serum)\n",
        "df_validate['max_glu_serum'] = df_validate[\"max_glu_serum\"].replace(max_glu_serum)\n",
        "df_test['max_glu_serum'] = df_test[\"max_glu_serum\"].replace(max_glu_serum)\n",
        "\n",
        "A1Cresult = {'None':0, 'Norm':1, '>7': 2, '>8': 3}\n",
        "df_train['A1Cresult'] = df_train[\"A1Cresult\"].replace(A1Cresult)\n",
        "df_validate['A1Cresult'] = df_validate[\"A1Cresult\"].replace(A1Cresult)\n",
        "df_test['A1Cresult'] = df_test[\"A1Cresult\"].replace(A1Cresult)\n",
        "\n",
        "DownNoSteadyUp = {'Down': 0, 'No':1, 'Steady':2, 'Up':3}\n",
        "for each in ['metformin', 'repaglinide', 'chlorpropamide', 'glimepiride', 'glipizide', 'glyburide', 'pioglitazone', \n",
        "             'rosiglitazone', 'acarbose', 'miglitol', 'tolazamide', 'examide', 'citoglipton', 'insulin', 'glyburide-metformin', 'glipizide-metformin',\n",
        "             'metformin-rosiglitazone', 'metformin-pioglitazone', \"nateglinide\"]:\n",
        "  df_train[each] = df_train[each].replace(DownNoSteadyUp)\n",
        "  df_validate[each] = df_validate[each].replace(DownNoSteadyUp)\n",
        "  df_test[each] = df_test[each].replace(DownNoSteadyUp)\n",
        "\n",
        "\n",
        "change = {\"Ch\":0, \"No\":1}\n",
        "df_train[\"change\"] = df_train[\"change\"].replace(change)\n",
        "df_validate[\"change\"] = df_validate[\"change\"].replace(change)\n",
        "df_test[\"change\"] = df_test[\"change\"].replace(change)\n",
        "\n",
        "\n",
        "\n",
        "diabetesMed = {\"Yes\":0, \"No\":1}\n",
        "df_train[\"diabetesMed\"] = df_train[\"diabetesMed\"].replace(diabetesMed)\n",
        "df_validate[\"diabetesMed\"] = df_validate[\"diabetesMed\"].replace(diabetesMed)\n",
        "df_test[\"diabetesMed\"] = df_test[\"diabetesMed\"].replace(diabetesMed)\n",
        "\n",
        "# Warning: only 21 entries is Steady\n",
        "tolbutamide = {\"No\":0, \"Steady\":1}\n",
        "df_train[\"tolbutamide\"] = df_train[\"tolbutamide\"].replace(tolbutamide)\n",
        "df_validate[\"tolbutamide\"] = df_validate[\"tolbutamide\"].replace(tolbutamide)\n",
        "df_test[\"tolbutamide\"] = df_test[\"tolbutamide\"].replace(tolbutamide)\n"
      ],
      "execution_count": null,
      "outputs": []
    },
    {
      "cell_type": "markdown",
      "metadata": {
        "id": "NpAg9ojxm_BR"
      },
      "source": [
        "Converting diag_1, diag_2, diag_3 according to https://www.hindawi.com/journals/bmri/2014/781670/tab2/"
      ]
    },
    {
      "cell_type": "code",
      "metadata": {
        "id": "2uKxoyNegyk2"
      },
      "source": [
        "# Converting diag_1, 2, 3\n",
        "\n",
        "\n",
        "\n",
        "# See table: https://www.hindawi.com/journals/bmri/2014/781670/tab2/\n",
        "diag_replace_dict = dict()\n",
        "\n",
        "#Circulatory = 0\n",
        "for each in range(390, 460):\n",
        "  diag_replace_dict[str(each)] = 0\n",
        "diag_replace_dict[str(785)] = 0\n",
        "\n",
        "#Respiratory = 1\n",
        "for each in range(460, 520):\n",
        "  diag_replace_dict[str(each)] = 1\n",
        "diag_replace_dict[str(786)] = 1\n",
        "\n",
        "#Digestive = 2\n",
        "for each in range(520, 580):\n",
        "  diag_replace_dict[str(each)] = 2\n",
        "diag_replace_dict[str(787)] = 2\n",
        "\n",
        "#Diabetes = 3\n",
        "# code = 250.xx\n",
        "df_train['diag_1'] = df_train[\"diag_1\"].replace(to_replace=r'^[2][5][0].[0-9]*$', value=3, regex=True)\n",
        "df_validate['diag_1'] = df_validate[\"diag_1\"].replace(to_replace=r'^[2][5][0].[0-9]*$', value=3, regex=True)\n",
        "df_test['diag_1'] = df_test[\"diag_1\"].replace(to_replace=r'^[2][5][0].[0-9]*$', value=3, regex=True)\n",
        "\n",
        "df_train['diag_2'] = df_train[\"diag_2\"].replace(to_replace=r'^[2][5][0].[0-9]*$', value=3, regex=True)\n",
        "df_validate['diag_2'] = df_validate[\"diag_2\"].replace(to_replace=r'^[2][5][0].[0-9]*$', value=3, regex=True)\n",
        "df_test['diag_2'] = df_test[\"diag_2\"].replace(to_replace=r'^[2][5][0].[0-9]*$', value=3, regex=True)\n",
        "\n",
        "df_train['diag_3'] = df_train[\"diag_3\"].replace(to_replace=r'^[2][5][0].[0-9]*$', value=3, regex=True)\n",
        "df_validate['diag_3'] = df_validate[\"diag_3\"].replace(to_replace=r'^[2][5][0].[0-9]*$', value=3, regex=True)\n",
        "df_test['diag_3'] = df_test[\"diag_3\"].replace(to_replace=r'^[2][5][0].[0-9]*$', value=3, regex=True)\n",
        "diag_replace_dict[str(250)] = 3\n",
        "#Injury = 4\n",
        "for each in range(800, 1000):\n",
        "  diag_replace_dict[str(each)] = 4\n",
        "\n",
        "#Musculoosk eletal = 5\n",
        "for each in range(710, 740):\n",
        "  diag_replace_dict[str(each)] = 5\n",
        "\n",
        "#Genitourinary = 6\n",
        "for each in range(580, 630):\n",
        "  diag_replace_dict[str(each)] = 6\n",
        "diag_replace_dict[str(788)] = 6\n",
        "\n",
        "#Neoplasms = 7\n",
        "for each in range(140, 240):\n",
        "  diag_replace_dict[str(each)] = 7\n",
        "diag_replace_dict[str(780)] = 7\n",
        "diag_replace_dict[str(781)] = 7\n",
        "diag_replace_dict[str(784)] = 7\n",
        "for each in range(790, 800):\n",
        "  diag_replace_dict[str(each)] = 7\n",
        "for each in range(240, 250):\n",
        "  diag_replace_dict[str(each)] = 7\n",
        "for each in range(251, 280):\n",
        "  diag_replace_dict[str(each)] = 7\n",
        "for each in range(680, 710):\n",
        "  diag_replace_dict[str(each)] = 7\n",
        "diag_replace_dict[str(782)] = 7\n",
        "for each in range(1, 140):\n",
        "  diag_replace_dict[str(each)] = 7\n",
        "\n",
        "#Other = 8\n",
        "for each in range(290, 320):\n",
        "  diag_replace_dict[str(each)] = 8\n",
        "df_train['diag_1'] = df_train[\"diag_1\"].replace(to_replace=r'^E[0-9]*$', value=8, regex=True)\n",
        "df_validate['diag_1'] = df_validate[\"diag_1\"].replace(to_replace=r'^E[0-9]*$', value=8, regex=True)\n",
        "df_test['diag_1'] = df_test[\"diag_1\"].replace(to_replace=r'^E[0-9]*$', value=8, regex=True)\n",
        "\n",
        "df_train['diag_2'] = df_train[\"diag_2\"].replace(to_replace=r'^E[0-9]*$', value=8, regex=True)\n",
        "df_validate['diag_2'] = df_validate[\"diag_2\"].replace(to_replace=r'^E[0-9]*$', value=8, regex=True)\n",
        "df_test['diag_2'] = df_test[\"diag_2\"].replace(to_replace=r'^E[0-9]*$', value=8, regex=True)\n",
        "\n",
        "df_train['diag_3'] = df_train[\"diag_3\"].replace(to_replace=r'^E[0-9]*$', value=8, regex=True)\n",
        "df_validate['diag_3'] = df_validate[\"diag_3\"].replace(to_replace=r'^E[0-9]*$', value=8, regex=True)\n",
        "df_test['diag_3'] = df_test[\"diag_3\"].replace(to_replace=r'^E[0-9]*$', value=8, regex=True)\n",
        "\n",
        "df_train['diag_1'] = df_train[\"diag_1\"].replace(to_replace=r'^V[0-9]*$', value=8, regex=True)\n",
        "df_validate['diag_1'] = df_validate[\"diag_1\"].replace(to_replace=r'^V[0-9]*$', value=8, regex=True)\n",
        "df_test['diag_1'] = df_test[\"diag_1\"].replace(to_replace=r'^V[0-9]*$', value=8, regex=True)\n",
        "\n",
        "df_train['diag_2'] = df_train[\"diag_2\"].replace(to_replace=r'^V[0-9]*$', value=8, regex=True)\n",
        "df_validate['diag_2'] = df_validate[\"diag_2\"].replace(to_replace=r'^V[0-9]*$', value=8, regex=True)\n",
        "df_test['diag_2'] = df_test[\"diag_2\"].replace(to_replace=r'^V[0-9]*$', value=8, regex=True)\n",
        "\n",
        "df_train['diag_3'] = df_train[\"diag_3\"].replace(to_replace=r'^V[0-9]*$', value=8, regex=True)\n",
        "df_validate['diag_3'] = df_validate[\"diag_3\"].replace(to_replace=r'^V[0-9]*$', value=8, regex=True)\n",
        "df_test['diag_3'] = df_test[\"diag_3\"].replace(to_replace=r'^V[0-9]*$', value=8, regex=True)\n",
        "\n",
        "for each in range(280, 290):\n",
        "  diag_replace_dict[str(each)] = 8\n",
        "for each in range(320, 360):\n",
        "  diag_replace_dict[str(each)] = 8\n",
        "for each in range(630, 680):\n",
        "  diag_replace_dict[str(each)] = 8\n",
        "for each in range(360, 390):\n",
        "  diag_replace_dict[str(each)] = 8\n",
        "for each in range(740, 760):\n",
        "  diag_replace_dict[str(each)] = 8\n",
        "\n",
        "df_train['diag_1'] = df_train[\"diag_1\"].replace(diag_replace_dict)\n",
        "df_validate['diag_1'] = df_validate[\"diag_1\"].replace(diag_replace_dict)\n",
        "df_test['diag_1'] = df_test[\"diag_1\"].replace(diag_replace_dict)\n",
        "\n",
        "df_train['diag_2'] = df_train[\"diag_2\"].replace(diag_replace_dict)\n",
        "df_validate['diag_2'] = df_validate[\"diag_2\"].replace(diag_replace_dict)\n",
        "df_test['diag_2'] = df_test[\"diag_2\"].replace(diag_replace_dict)\n",
        "\n",
        "df_train['diag_3'] = df_train[\"diag_3\"].replace(diag_replace_dict)\n",
        "df_validate['diag_3'] = df_validate[\"diag_3\"].replace(diag_replace_dict)\n",
        "df_test['diag_3'] = df_test[\"diag_3\"].replace(diag_replace_dict)\n",
        "\n",
        "df_train[\"diag_1\"].fillna(9, inplace = True)\n",
        "df_validate[\"diag_1\"].fillna(9, inplace = True) \n",
        "df_test[\"diag_1\"].fillna(9, inplace = True)\n",
        "\n",
        "df_train[\"diag_2\"].fillna(9, inplace = True)\n",
        "df_validate[\"diag_2\"].fillna(9, inplace = True) \n",
        "df_test[\"diag_2\"].fillna(9, inplace = True)\n",
        "\n",
        "df_train[\"diag_3\"].fillna(9, inplace = True)\n",
        "df_validate[\"diag_3\"].fillna(9, inplace = True) \n",
        "df_test[\"diag_3\"].fillna(9, inplace = True)"
      ],
      "execution_count": null,
      "outputs": []
    },
    {
      "cell_type": "code",
      "metadata": {
        "id": "OTJoJmyktul5",
        "colab": {
          "base_uri": "https://localhost:8080/",
          "height": 233
        },
        "outputId": "756ab02e-afd5-43b8-8662-32d6c87bd028"
      },
      "source": [
        "df_validate.groupby('diag_3').size().sort_values(ascending = False)"
      ],
      "execution_count": null,
      "outputs": [
        {
          "output_type": "execute_result",
          "data": {
            "text/plain": [
              "diag_3\n",
              "0    4264\n",
              "7    2691\n",
              "3    2531\n",
              "8    1941\n",
              "1    1074\n",
              "6     959\n",
              "2     536\n",
              "4     315\n",
              "5     314\n",
              "9     201\n",
              "dtype: int64"
            ]
          },
          "metadata": {
            "tags": []
          },
          "execution_count": 36
        }
      ]
    },
    {
      "cell_type": "code",
      "metadata": {
        "id": "-Po1DKDmVfZq",
        "colab": {
          "base_uri": "https://localhost:8080/",
          "height": 251
        },
        "outputId": "85485ff6-ffe2-4a0d-e513-0dc2a512d1b9"
      },
      "source": [
        "df.groupby('medical_specialty').size().sort_values(ascending = False)"
      ],
      "execution_count": null,
      "outputs": [
        {
          "output_type": "execute_result",
          "data": {
            "text/plain": [
              "medical_specialty\n",
              "Other                         56089\n",
              "InternalMedicine              14112\n",
              "Emergency/Trauma               7322\n",
              "Family/GeneralPractice         7186\n",
              "Cardiology                     5277\n",
              "Surgery-General                3011\n",
              "Nephrology                     1527\n",
              "Orthopedics                    1394\n",
              "Orthopedics-Reconstructive     1231\n",
              "Psychiatry                      849\n",
              "Pulmonology                     839\n",
              "dtype: int64"
            ]
          },
          "metadata": {
            "tags": []
          },
          "execution_count": 37
        }
      ]
    },
    {
      "cell_type": "code",
      "metadata": {
        "id": "XYunP0LpXPVr",
        "colab": {
          "base_uri": "https://localhost:8080/",
          "height": 251
        },
        "outputId": "147279d7-76af-405d-c785-9214f00ff0d9"
      },
      "source": [
        "df.groupby('medical_specialty').size().sort_values(ascending = False)"
      ],
      "execution_count": null,
      "outputs": [
        {
          "output_type": "execute_result",
          "data": {
            "text/plain": [
              "medical_specialty\n",
              "Other                         56089\n",
              "InternalMedicine              14112\n",
              "Emergency/Trauma               7322\n",
              "Family/GeneralPractice         7186\n",
              "Cardiology                     5277\n",
              "Surgery-General                3011\n",
              "Nephrology                     1527\n",
              "Orthopedics                    1394\n",
              "Orthopedics-Reconstructive     1231\n",
              "Psychiatry                      849\n",
              "Pulmonology                     839\n",
              "dtype: int64"
            ]
          },
          "metadata": {
            "tags": []
          },
          "execution_count": 38
        }
      ]
    },
    {
      "cell_type": "code",
      "metadata": {
        "id": "wAGEvigcc0IJ"
      },
      "source": [
        "med_spec = {'Other':0,'InternalMedicine':1,'Emergency/Trauma':2,'Family/GeneralPractice':3,\n",
        "            'Cardiology':4,'Surgery-General':5,'Nephrology':6,'Orthopedics':7,'Orthopedics-Reconstructive':8,\n",
        "            'Pulmonology':9, 'Psychiatry':10}\n",
        "df_train['medical_specialty'] = df_train[\"medical_specialty\"].replace(med_spec)\n",
        "df_validate['medical_specialty'] = df_validate[\"medical_specialty\"].replace(med_spec)\n",
        "df_test['medical_specialty'] = df_test[\"medical_specialty\"].replace(med_spec)"
      ],
      "execution_count": null,
      "outputs": []
    },
    {
      "cell_type": "code",
      "metadata": {
        "id": "D1LPvlmMkGnI"
      },
      "source": [
        "assert df_train.shape[0]+df_validate.shape[0]+df_test.shape[0] == df.shape[0]"
      ],
      "execution_count": null,
      "outputs": []
    },
    {
      "cell_type": "code",
      "metadata": {
        "id": "JkuX8th_kCzE"
      },
      "source": [
        "'''medical_specialty_keys = df.groupby('medical_specialty').groups.keys()\n",
        "medical_specialty_index = list(enumerate(list(medical_specialty_keys),1))\n",
        "\n",
        "medical_specialty = dict()\n",
        "for each in medical_specialty_index:\n",
        "  medical_specialty[each[1]] = each[0]\n",
        "\n",
        "\n",
        "df_train[\"medical_specialty\"] = df_train[\"medical_specialty\"].replace(medical_specialty)\n",
        "df_validate[\"medical_specialty\"] = df_validate[\"medical_specialty\"].replace(medical_specialty)\n",
        "df_test[\"medical_specialty\"] = df_test[\"medical_specialty\"].replace(medical_specialty)'''\n",
        "\n",
        "\n",
        "df_train[\"medical_specialty\"].fillna(11, inplace = True)\n",
        "df_validate[\"medical_specialty\"].fillna(11, inplace = True) \n",
        "df_test[\"medical_specialty\"].fillna(11, inplace = True)\n",
        "\n",
        "df_train[\"race\"].fillna(5, inplace = True) \n",
        "df_validate[\"race\"].fillna(5, inplace = True) \n",
        "df_test[\"race\"].fillna(5, inplace = True) \n",
        "\n",
        "df_train[\"weight\"].fillna(9, inplace = True) \n",
        "df_validate[\"weight\"].fillna(9, inplace = True) \n",
        "df_test[\"weight\"].fillna(9, inplace = True)"
      ],
      "execution_count": null,
      "outputs": []
    },
    {
      "cell_type": "code",
      "metadata": {
        "id": "emrYSeTnQvlx"
      },
      "source": [
        "df_train.to_csv('df_train.csv',index=False)\n",
        "df_validate.to_csv('df_validate.csv',index=False)\n",
        "df_test.to_csv('df_test.csv',index=False)"
      ],
      "execution_count": null,
      "outputs": []
    },
    {
      "cell_type": "code",
      "metadata": {
        "id": "1T_O8whoTQJ9",
        "colab": {
          "base_uri": "https://localhost:8080/",
          "height": 809
        },
        "outputId": "79482495-f2c3-4994-fb46-5f41da018ea1"
      },
      "source": [
        "df_train.isnull().sum()"
      ],
      "execution_count": null,
      "outputs": [
        {
          "output_type": "execute_result",
          "data": {
            "text/plain": [
              "race                        0\n",
              "gender                      0\n",
              "age                         0\n",
              "weight                      0\n",
              "admission_type_id           0\n",
              "discharge_disposition_id    0\n",
              "admission_source_id         0\n",
              "time_in_hospital            0\n",
              "medical_specialty           0\n",
              "num_lab_procedures          0\n",
              "num_procedures              0\n",
              "num_medications             0\n",
              "number_outpatient           0\n",
              "number_emergency            0\n",
              "number_inpatient            0\n",
              "diag_1                      0\n",
              "diag_2                      0\n",
              "diag_3                      0\n",
              "number_diagnoses            0\n",
              "max_glu_serum               0\n",
              "A1Cresult                   0\n",
              "metformin                   0\n",
              "repaglinide                 0\n",
              "nateglinide                 0\n",
              "chlorpropamide              0\n",
              "glimepiride                 0\n",
              "glipizide                   0\n",
              "glyburide                   0\n",
              "tolbutamide                 0\n",
              "pioglitazone                0\n",
              "rosiglitazone               0\n",
              "acarbose                    0\n",
              "miglitol                    0\n",
              "tolazamide                  0\n",
              "examide                     0\n",
              "citoglipton                 0\n",
              "insulin                     0\n",
              "glyburide-metformin         0\n",
              "glipizide-metformin         0\n",
              "metformin-rosiglitazone     0\n",
              "metformin-pioglitazone      0\n",
              "change                      0\n",
              "diabetesMed                 0\n",
              "dtype: int64"
            ]
          },
          "metadata": {
            "tags": []
          },
          "execution_count": 43
        }
      ]
    },
    {
      "cell_type": "code",
      "metadata": {
        "id": "tisTzgAxgW-I",
        "colab": {
          "base_uri": "https://localhost:8080/",
          "height": 251
        },
        "outputId": "585fa09e-d334-4f6c-f8e3-c083281f0a4b"
      },
      "source": [
        "df.groupby('medical_specialty').size().sort_values(ascending = False)"
      ],
      "execution_count": null,
      "outputs": [
        {
          "output_type": "execute_result",
          "data": {
            "text/plain": [
              "medical_specialty\n",
              "Other                         56089\n",
              "InternalMedicine              14112\n",
              "Emergency/Trauma               7322\n",
              "Family/GeneralPractice         7186\n",
              "Cardiology                     5277\n",
              "Surgery-General                3011\n",
              "Nephrology                     1527\n",
              "Orthopedics                    1394\n",
              "Orthopedics-Reconstructive     1231\n",
              "Psychiatry                      849\n",
              "Pulmonology                     839\n",
              "dtype: int64"
            ]
          },
          "metadata": {
            "tags": []
          },
          "execution_count": 44
        }
      ]
    },
    {
      "cell_type": "code",
      "metadata": {
        "id": "ohGzGgiibOed",
        "colab": {
          "base_uri": "https://localhost:8080/",
          "height": 179
        },
        "outputId": "dcff3e77-efe2-4196-ef99-6eceea6ddddd"
      },
      "source": [
        "df[\"number_diagnoses\"].describe()"
      ],
      "execution_count": null,
      "outputs": [
        {
          "output_type": "execute_result",
          "data": {
            "text/plain": [
              "count    98837.000000\n",
              "mean         7.407641\n",
              "std          1.939043\n",
              "min          1.000000\n",
              "25%          6.000000\n",
              "50%          8.000000\n",
              "75%          9.000000\n",
              "max         16.000000\n",
              "Name: number_diagnoses, dtype: float64"
            ]
          },
          "metadata": {
            "tags": []
          },
          "execution_count": 45
        }
      ]
    },
    {
      "cell_type": "code",
      "metadata": {
        "id": "6BrVkkX02Hti",
        "colab": {
          "base_uri": "https://localhost:8080/",
          "height": 1000
        },
        "outputId": "4d5a16bb-1c94-48a8-ef5b-ac036d9d8f3a"
      },
      "source": [
        "# for each column\n",
        "for c in list(df.columns):\n",
        "    \n",
        "    # get a list of unique values\n",
        "    n = df[c].unique()\n",
        "    \n",
        "    # if number of unique values is less than 30, print the values. Otherwise print the number of unique values\n",
        "    if len(n)<30:\n",
        "        print(c)\n",
        "        print(n)\n",
        "    else:\n",
        "        print(c + ': ' +str(len(n)) + ' unique values')"
      ],
      "execution_count": null,
      "outputs": [
        {
          "output_type": "stream",
          "text": [
            "race\n",
            "['Caucasian' 'AfricanAmerican' nan 'Other' 'Asian' 'Hispanic']\n",
            "gender\n",
            "['Female' 'Male']\n",
            "age\n",
            "['[0-10)' '[10-20)' '[20-30)' '[30-40)' '[40-50)' '[50-60)' '[60-70)'\n",
            " '[70-80)' '[80-90)' '[90-100)']\n",
            "weight\n",
            "[nan '[75-100)' '[50-75)' '[0-25)' '[100-125)' '[25-50)' '[125-150)'\n",
            " '[175-200)' '[150-175)' '>200']\n",
            "admission_type_id\n",
            "[6 1 2 3 4 5 8 7]\n",
            "discharge_disposition_id\n",
            "[25  1  3  6  2  5  7 10  4 14 18  8 13 12 16 17 22 23  9 15 24 28 27]\n",
            "admission_source_id\n",
            "[ 1  7  2  4  5 20  6  3 17  8  9 14 10 22 11 25 13]\n",
            "time_in_hospital\n",
            "[ 1  3  2  4  5 13 12  9  7 10  6 11  8 14]\n",
            "medical_specialty\n",
            "['Other' 'InternalMedicine' 'Family/GeneralPractice' 'Cardiology'\n",
            " 'Surgery-General' 'Orthopedics' 'Nephrology' 'Orthopedics-Reconstructive'\n",
            " 'Psychiatry' 'Emergency/Trauma' 'Pulmonology']\n",
            "num_lab_procedures: 118 unique values\n",
            "num_procedures\n",
            "[0 5 1 6 2 3 4]\n",
            "num_medications: 75 unique values\n",
            "number_outpatient: 39 unique values\n",
            "number_emergency: 33 unique values\n",
            "number_inpatient\n",
            "[ 0  1  2  3  6  5  4  7  9  8 15 10 11 14 12 13 17 16 21 18 19]\n",
            "diag_1: 714 unique values\n",
            "diag_2: 745 unique values\n",
            "diag_3: 786 unique values\n",
            "number_diagnoses\n",
            "[ 1  9  6  7  5  8  3  4  2 16 13 15 10 12 11 14]\n",
            "max_glu_serum\n",
            "['None' '>300' 'Norm' '>200']\n",
            "A1Cresult\n",
            "['None' '>7' '>8' 'Norm']\n",
            "metformin\n",
            "['No' 'Steady' 'Up' 'Down']\n",
            "repaglinide\n",
            "['No' 'Up' 'Steady' 'Down']\n",
            "nateglinide\n",
            "['No' 'Steady' 'Down' 'Up']\n",
            "chlorpropamide\n",
            "['No' 'Steady' 'Down' 'Up']\n",
            "glimepiride\n",
            "['No' 'Steady' 'Down' 'Up']\n",
            "glipizide\n",
            "['No' 'Steady' 'Up' 'Down']\n",
            "glyburide\n",
            "['No' 'Steady' 'Up' 'Down']\n",
            "tolbutamide\n",
            "['No' 'Steady']\n",
            "pioglitazone\n",
            "['No' 'Steady' 'Up' 'Down']\n",
            "rosiglitazone\n",
            "['No' 'Steady' 'Up' 'Down']\n",
            "acarbose\n",
            "['No' 'Steady' 'Up' 'Down']\n",
            "miglitol\n",
            "['No' 'Steady' 'Down' 'Up']\n",
            "tolazamide\n",
            "['No' 'Steady' 'Up']\n",
            "examide\n",
            "['No']\n",
            "citoglipton\n",
            "['No']\n",
            "insulin\n",
            "['No' 'Up' 'Steady' 'Down']\n",
            "glyburide-metformin\n",
            "['No' 'Steady' 'Down' 'Up']\n",
            "glipizide-metformin\n",
            "['No' 'Steady']\n",
            "metformin-rosiglitazone\n",
            "['No' 'Steady']\n",
            "metformin-pioglitazone\n",
            "['No' 'Steady']\n",
            "change\n",
            "['No' 'Ch']\n",
            "diabetesMed\n",
            "['No' 'Yes']\n",
            "readmitted\n",
            "['NO' '>30' '<30']\n"
          ],
          "name": "stdout"
        }
      ]
    },
    {
      "cell_type": "code",
      "metadata": {
        "id": "8a0QLO8lWwow"
      },
      "source": [
        "y_train_color = []\n",
        "for each in y_train:\n",
        "  if each == 0:\n",
        "    y_train_color.append(\"red\")\n",
        "  else:\n",
        "    y_train_color.append(\"green\")"
      ],
      "execution_count": null,
      "outputs": []
    },
    {
      "cell_type": "code",
      "metadata": {
        "id": "7-2GdKeqUQSB",
        "colab": {
          "base_uri": "https://localhost:8080/",
          "height": 353
        },
        "outputId": "aac00772-d1db-43cc-d8d5-57dd803bce1f"
      },
      "source": [
        "plt.figure(figsize=(15, 5))\n",
        "plt.scatter(df_train['diag_1'], df_train['diag_2'], c=y_train_color)\n",
        "plt.xlabel('medical_specialty')\n",
        "plt.ylabel('weight')"
      ],
      "execution_count": null,
      "outputs": [
        {
          "output_type": "execute_result",
          "data": {
            "text/plain": [
              "Text(0, 0.5, 'weight')"
            ]
          },
          "metadata": {
            "tags": []
          },
          "execution_count": 48
        },
        {
          "output_type": "display_data",
          "data": {
            "image/png": "[encoded data removed]",
            "text/plain": [
              "<Figure size 1080x360 with 1 Axes>"
            ]
          },
          "metadata": {
            "tags": []
          }
        }
      ]
    },
    {
      "cell_type": "markdown",
      "metadata": {
        "id": "jINThGvDkzfq"
      },
      "source": [
        "#Training Model"
      ]
    },
    {
      "cell_type": "code",
      "metadata": {
        "id": "_QqdZRwsVUXn"
      },
      "source": [
        "from sklearn.metrics import roc_auc_score, accuracy_score, precision_score, recall_score\n",
        "def calc_specificity(y_actual, y_pred, thresh):\n",
        "    # calculates specificity\n",
        "    return sum((y_pred < thresh) & (y_actual == 0)) /sum(y_actual ==0)\n",
        "\n",
        "def print_report(y_actual, y_pred, thresh):\n",
        "    \n",
        "    auc = roc_auc_score(y_actual, y_pred)\n",
        "    accuracy = accuracy_score(y_actual, (y_pred > thresh))\n",
        "    recall = recall_score(y_actual, (y_pred > thresh))\n",
        "    precision = precision_score(y_actual, (y_pred > thresh))\n",
        "    specificity = calc_specificity(y_actual, y_pred, thresh)\n",
        "    print('AUC:%.3f'%auc)\n",
        "    print('accuracy:%.3f'%accuracy)\n",
        "    print('recall:%.3f'%recall)\n",
        "    print('precision:%.3f'%precision)\n",
        "    print('specificity:%.3f'%specificity)\n",
        "    print('prevalence:%.3f'%calc_prevalence(y_actual))\n",
        "    print(' ')\n",
        "    return auc, accuracy, recall, precision, specificity \n",
        "\n",
        "def calc_prevalence(y_actual):\n",
        "    return (sum(y_actual)/len(y_actual))"
      ],
      "execution_count": null,
      "outputs": []
    },
    {
      "cell_type": "code",
      "metadata": {
        "id": "LK3nNVzdDm3e"
      },
      "source": [
        "# TODO: Balance dataset."
      ],
      "execution_count": null,
      "outputs": []
    },
    {
      "cell_type": "code",
      "metadata": {
        "id": "Q2dZtVitQ3Io",
        "colab": {
          "base_uri": "https://localhost:8080/",
          "height": 71
        },
        "outputId": "f1d10370-afdd-4f2e-d6b9-b06b434cfb30"
      },
      "source": [
        "from sklearn.neighbors import KNeighborsClassifier\n",
        "knn=KNeighborsClassifier(n_neighbors = 100)\n",
        "knn.fit(df_train, y_train)"
      ],
      "execution_count": null,
      "outputs": [
        {
          "output_type": "execute_result",
          "data": {
            "text/plain": [
              "KNeighborsClassifier(algorithm='auto', leaf_size=30, metric='minkowski',\n",
              "                     metric_params=None, n_jobs=None, n_neighbors=100, p=2,\n",
              "                     weights='uniform')"
            ]
          },
          "metadata": {
            "tags": []
          },
          "execution_count": 23
        }
      ]
    },
    {
      "cell_type": "markdown",
      "metadata": {
        "id": "6F64LUYjBisY"
      },
      "source": [
        "KNN\n"
      ]
    },
    {
      "cell_type": "code",
      "metadata": {
        "id": "mdUzAtyAVbC1",
        "colab": {
          "base_uri": "https://localhost:8080/",
          "height": 1000
        },
        "outputId": "8cde1a87-affd-46dd-96fa-9bdbeba0a72e"
      },
      "source": [
        "n_neighbors_list = [5, 25, 50, 100, 250, 500]\n",
        "knn_auc_train_result = []\n",
        "knn_auc_validate_result = []\n",
        "\n",
        "for n_neighbors in n_neighbors_list:\n",
        "  print(\"n_neighbors:\", n_neighbors)\n",
        "  knn=KNeighborsClassifier(n_neighbors = n_neighbors)\n",
        "  knn.fit(df_train, y_train)\n",
        "  thresh = 0.5\n",
        "\n",
        "  y_train_preds = knn.predict_proba(df_train)[:,1]\n",
        "  y_valid_preds = knn.predict_proba(df_validate)[:,1]\n",
        "\n",
        "  knn_train_auc, knn_train_accuracy, knn_train_recall, knn_train_precision, knn_train_specificity = print_report(y_train,y_train_preds, thresh)\n",
        "  knn_auc_train_result.append(knn_train_auc)\n",
        "  knn_train_auc, knn_train_accuracy, knn_train_recall, knn_train_precision, knn_train_specificity = print_report(y_validate,y_valid_preds, thresh)\n",
        "  knn_auc_validate_result.append(knn_train_auc)"
      ],
      "execution_count": null,
      "outputs": [
        {
          "output_type": "stream",
          "text": [
            "n_neighbors: 5\n",
            "AUC:0.872\n",
            "accuracy:0.892\n",
            "recall:0.095\n",
            "precision:0.644\n",
            "specificity:0.993\n",
            "prevalence:0.113\n",
            " \n",
            "AUC:0.550\n",
            "accuracy:0.877\n",
            "recall:0.034\n",
            "precision:0.227\n",
            "specificity:0.985\n",
            "prevalence:0.114\n",
            " \n",
            "n_neighbors: 25\n",
            "AUC:0.723\n",
            "accuracy:0.888\n",
            "recall:0.003\n",
            "precision:0.765\n",
            "specificity:1.000\n",
            "prevalence:0.113\n",
            " \n",
            "AUC:0.569\n",
            "accuracy:0.886\n",
            "recall:0.002\n",
            "precision:0.364\n",
            "specificity:0.999\n",
            "prevalence:0.114\n",
            " \n",
            "n_neighbors: 50\n",
            "AUC:0.681\n",
            "accuracy:0.887\n",
            "recall:0.000\n",
            "precision:0.500\n",
            "specificity:1.000\n",
            "prevalence:0.113\n",
            " \n",
            "AUC:0.588\n",
            "accuracy:0.886\n",
            "recall:0.001\n",
            "precision:1.000\n",
            "specificity:1.000\n",
            "prevalence:0.114\n",
            " \n",
            "n_neighbors: 100\n"
          ],
          "name": "stdout"
        },
        {
          "output_type": "stream",
          "text": [
            "/usr/local/lib/python3.6/dist-packages/sklearn/metrics/_classification.py:1272: UndefinedMetricWarning: Precision is ill-defined and being set to 0.0 due to no predicted samples. Use `zero_division` parameter to control this behavior.\n",
            "  _warn_prf(average, modifier, msg_start, len(result))\n",
            "/usr/local/lib/python3.6/dist-packages/sklearn/metrics/_classification.py:1272: UndefinedMetricWarning: Precision is ill-defined and being set to 0.0 due to no predicted samples. Use `zero_division` parameter to control this behavior.\n",
            "  _warn_prf(average, modifier, msg_start, len(result))\n"
          ],
          "name": "stderr"
        },
        {
          "output_type": "stream",
          "text": [
            "AUC:0.655\n",
            "accuracy:0.887\n",
            "recall:0.000\n",
            "precision:0.000\n",
            "specificity:1.000\n",
            "prevalence:0.113\n",
            " \n",
            "AUC:0.596\n",
            "accuracy:0.886\n",
            "recall:0.000\n",
            "precision:0.000\n",
            "specificity:1.000\n",
            "prevalence:0.114\n",
            " \n",
            "n_neighbors: 250\n"
          ],
          "name": "stdout"
        },
        {
          "output_type": "stream",
          "text": [
            "/usr/local/lib/python3.6/dist-packages/sklearn/metrics/_classification.py:1272: UndefinedMetricWarning: Precision is ill-defined and being set to 0.0 due to no predicted samples. Use `zero_division` parameter to control this behavior.\n",
            "  _warn_prf(average, modifier, msg_start, len(result))\n",
            "/usr/local/lib/python3.6/dist-packages/sklearn/metrics/_classification.py:1272: UndefinedMetricWarning: Precision is ill-defined and being set to 0.0 due to no predicted samples. Use `zero_division` parameter to control this behavior.\n",
            "  _warn_prf(average, modifier, msg_start, len(result))\n"
          ],
          "name": "stderr"
        },
        {
          "output_type": "stream",
          "text": [
            "AUC:0.631\n",
            "accuracy:0.887\n",
            "recall:0.000\n",
            "precision:0.000\n",
            "specificity:1.000\n",
            "prevalence:0.113\n",
            " \n",
            "AUC:0.596\n",
            "accuracy:0.886\n",
            "recall:0.000\n",
            "precision:0.000\n",
            "specificity:1.000\n",
            "prevalence:0.114\n",
            " \n",
            "n_neighbors: 500\n",
            "AUC:0.617\n",
            "accuracy:0.887\n",
            "recall:0.000\n",
            "precision:0.000\n",
            "specificity:1.000\n",
            "prevalence:0.113\n",
            " \n",
            "AUC:0.602\n",
            "accuracy:0.886\n",
            "recall:0.000\n",
            "precision:0.000\n",
            "specificity:1.000\n",
            "prevalence:0.114\n",
            " \n"
          ],
          "name": "stdout"
        },
        {
          "output_type": "stream",
          "text": [
            "/usr/local/lib/python3.6/dist-packages/sklearn/metrics/_classification.py:1272: UndefinedMetricWarning: Precision is ill-defined and being set to 0.0 due to no predicted samples. Use `zero_division` parameter to control this behavior.\n",
            "  _warn_prf(average, modifier, msg_start, len(result))\n",
            "/usr/local/lib/python3.6/dist-packages/sklearn/metrics/_classification.py:1272: UndefinedMetricWarning: Precision is ill-defined and being set to 0.0 due to no predicted samples. Use `zero_division` parameter to control this behavior.\n",
            "  _warn_prf(average, modifier, msg_start, len(result))\n"
          ],
          "name": "stderr"
        }
      ]
    },
    {
      "cell_type": "code",
      "metadata": {
        "id": "26zPqySgswLu",
        "colab": {
          "base_uri": "https://localhost:8080/",
          "height": 125
        },
        "outputId": "d7f3c9cb-6edf-49eb-a9af-2f9de71c979e"
      },
      "source": [
        "knn_auc_train_result"
      ],
      "execution_count": null,
      "outputs": [
        {
          "output_type": "execute_result",
          "data": {
            "text/plain": [
              "[0.8715388481471062,\n",
              " 0.723441085245353,\n",
              " 0.681362173894803,\n",
              " 0.6545333546859103,\n",
              " 0.6309464614669126,\n",
              " 0.616765822037214]"
            ]
          },
          "metadata": {
            "tags": []
          },
          "execution_count": 25
        }
      ]
    },
    {
      "cell_type": "code",
      "metadata": {
        "id": "1x8ArhLM2TV0",
        "colab": {
          "base_uri": "https://localhost:8080/",
          "height": 265
        },
        "outputId": "c15e80ed-c265-49c6-bce1-70f8febbb05b"
      },
      "source": [
        "plt.plot(n_neighbors_list, knn_auc_train_result, n_neighbors_list, knn_auc_validate_result) \n",
        "plt.legend(['Training Error', 'Validation Error'])\n",
        "plt.show()"
      ],
      "execution_count": null,
      "outputs": [
        {
          "output_type": "display_data",
          "data": {
            "image/png": "[encoded data removed]",
            "text/plain": [
              "<Figure size 432x288 with 1 Axes>"
            ]
          },
          "metadata": {
            "tags": []
          }
        }
      ]
    },
    {
      "cell_type": "code",
      "metadata": {
        "id": "SIY8nfO9Bh-O",
        "colab": {
          "base_uri": "https://localhost:8080/",
          "height": 467
        },
        "outputId": "1efa73fe-ebe4-4d6f-af22-adc20c340272"
      },
      "source": [
        "from sklearn.linear_model import LogisticRegression\n",
        "lr=LogisticRegression(random_state = 42)\n",
        "lr.fit(df_train, y_train)\n",
        "\n",
        "y_train_preds = lr.predict_proba(df_train)[:,1]\n",
        "y_valid_preds = lr.predict_proba(df_validate)[:,1]\n",
        "\n",
        "print('Logistic Regression')\n",
        "print('Training:')\n",
        "lr_train_auc, lr_train_accuracy, lr_train_recall, \\\n",
        "    lr_train_precision, lr_train_specificity = print_report(y_train,y_train_preds, thresh)\n",
        "print('Validation:')\n",
        "lr_valid_auc, lr_valid_accuracy, lr_valid_recall, \\\n",
        "    lr_valid_precision, lr_valid_specificity = print_report(y_validate,y_valid_preds, thresh)"
      ],
      "execution_count": null,
      "outputs": [
        {
          "output_type": "stream",
          "text": [
            "/usr/local/lib/python3.6/dist-packages/sklearn/linear_model/_logistic.py:940: ConvergenceWarning: lbfgs failed to converge (status=1):\n",
            "STOP: TOTAL NO. of ITERATIONS REACHED LIMIT.\n",
            "\n",
            "Increase the number of iterations (max_iter) or scale the data as shown in:\n",
            "    https://scikit-learn.org/stable/modules/preprocessing.html\n",
            "Please also refer to the documentation for alternative solver options:\n",
            "    https://scikit-learn.org/stable/modules/linear_model.html#logistic-regression\n",
            "  extra_warning_msg=_LOGISTIC_SOLVER_CONVERGENCE_MSG)\n"
          ],
          "name": "stderr"
        },
        {
          "output_type": "stream",
          "text": [
            "Logistic Regression\n",
            "Training:\n",
            "AUC:0.644\n",
            "accuracy:0.887\n",
            "recall:0.015\n",
            "precision:0.477\n",
            "specificity:0.998\n",
            "prevalence:0.113\n",
            " \n",
            "Validation:\n",
            "AUC:0.635\n",
            "accuracy:0.886\n",
            "recall:0.014\n",
            "precision:0.480\n",
            "specificity:0.998\n",
            "prevalence:0.114\n",
            " \n"
          ],
          "name": "stdout"
        }
      ]
    },
    {
      "cell_type": "code",
      "metadata": {
        "id": "8W5t4ma3wY2R"
      },
      "source": [
        ""
      ],
      "execution_count": null,
      "outputs": []
    },
    {
      "cell_type": "code",
      "metadata": {
        "id": "wrAMUrECwY8G",
        "colab": {
          "base_uri": "https://localhost:8080/",
          "height": 467
        },
        "outputId": "990e849e-b404-4e68-f437-e540a1a9e65a"
      },
      "source": [
        "# New logistic with diag_123\n",
        "from sklearn.linear_model import LogisticRegression\n",
        "lr=LogisticRegression(random_state = 42)\n",
        "lr.fit(df_train, y_train)\n",
        "\n",
        "y_train_preds = lr.predict_proba(df_train)[:,1]\n",
        "y_valid_preds = lr.predict_proba(df_validate)[:,1]\n",
        "\n",
        "print('Logistic Regression')\n",
        "print('Training:')\n",
        "lr_train_auc, lr_train_accuracy, lr_train_recall, \\\n",
        "    lr_train_precision, lr_train_specificity = print_report(y_train,y_train_preds, thresh)\n",
        "print('Validation:')\n",
        "lr_valid_auc, lr_valid_accuracy, lr_valid_recall, \\\n",
        "    lr_valid_precision, lr_valid_specificity = print_report(y_validate,y_valid_preds, thresh)"
      ],
      "execution_count": null,
      "outputs": [
        {
          "output_type": "stream",
          "text": [
            "/usr/local/lib/python3.6/dist-packages/sklearn/linear_model/_logistic.py:940: ConvergenceWarning: lbfgs failed to converge (status=1):\n",
            "STOP: TOTAL NO. of ITERATIONS REACHED LIMIT.\n",
            "\n",
            "Increase the number of iterations (max_iter) or scale the data as shown in:\n",
            "    https://scikit-learn.org/stable/modules/preprocessing.html\n",
            "Please also refer to the documentation for alternative solver options:\n",
            "    https://scikit-learn.org/stable/modules/linear_model.html#logistic-regression\n",
            "  extra_warning_msg=_LOGISTIC_SOLVER_CONVERGENCE_MSG)\n"
          ],
          "name": "stderr"
        },
        {
          "output_type": "stream",
          "text": [
            "Logistic Regression\n",
            "Training:\n",
            "AUC:0.644\n",
            "accuracy:0.887\n",
            "recall:0.015\n",
            "precision:0.477\n",
            "specificity:0.998\n",
            "prevalence:0.113\n",
            " \n",
            "Validation:\n",
            "AUC:0.635\n",
            "accuracy:0.886\n",
            "recall:0.014\n",
            "precision:0.480\n",
            "specificity:0.998\n",
            "prevalence:0.114\n",
            " \n"
          ],
          "name": "stdout"
        }
      ]
    },
    {
      "cell_type": "code",
      "metadata": {
        "id": "9CiiHJJFwYtq"
      },
      "source": [
        ""
      ],
      "execution_count": null,
      "outputs": []
    },
    {
      "cell_type": "markdown",
      "metadata": {
        "id": "hGHKCdpcSL0J"
      },
      "source": [
        "Decision Tree"
      ]
    },
    {
      "cell_type": "code",
      "metadata": {
        "id": "Qg2GJakkQ-5X",
        "colab": {
          "base_uri": "https://localhost:8080/",
          "height": 323
        },
        "outputId": "7f10a0f1-fbc6-4838-a71e-3cccf749f7f6"
      },
      "source": [
        "from sklearn.tree import DecisionTreeClassifier\n",
        "\n",
        "tree = DecisionTreeClassifier(max_depth = 10, random_state = 42)\n",
        "tree.fit(df_train, y_train)\n",
        "\n",
        "y_train_preds = tree.predict_proba(df_train)[:,1]\n",
        "y_valid_preds = tree.predict_proba(df_validate)[:,1]\n",
        "\n",
        "print('Decision Tree')\n",
        "print('Training:')\n",
        "tree_train_auc, tree_train_accuracy, tree_train_recall, tree_train_precision, tree_train_specificity =print_report(y_train,y_train_preds, thresh)\n",
        "print('Validation:')\n",
        "tree_valid_auc, tree_valid_accuracy, tree_valid_recall, tree_valid_precision, tree_valid_specificity = print_report(y_validate,y_valid_preds, thresh)"
      ],
      "execution_count": null,
      "outputs": [
        {
          "output_type": "stream",
          "text": [
            "Decision Tree\n",
            "Training:\n",
            "AUC:0.707\n",
            "accuracy:0.895\n",
            "recall:0.090\n",
            "precision:0.802\n",
            "specificity:0.997\n",
            "prevalence:0.113\n",
            " \n",
            "Validation:\n",
            "AUC:0.622\n",
            "accuracy:0.882\n",
            "recall:0.041\n",
            "precision:0.337\n",
            "specificity:0.989\n",
            "prevalence:0.114\n",
            " \n"
          ],
          "name": "stdout"
        }
      ]
    },
    {
      "cell_type": "markdown",
      "metadata": {
        "id": "DuJrYCuWSRL-"
      },
      "source": [
        "Random Forest"
      ]
    },
    {
      "cell_type": "code",
      "metadata": {
        "id": "o5AvPCZxSP72",
        "colab": {
          "base_uri": "https://localhost:8080/",
          "height": 467
        },
        "outputId": "676de033-f7ac-4f75-b804-afeff2892b18"
      },
      "source": [
        "from sklearn.ensemble import RandomForestClassifier\n",
        "rf=RandomForestClassifier(max_depth = 8, random_state = 42)\n",
        "rf.fit(df_train, y_train)\n",
        "\n",
        "y_train_preds = rf.predict_proba(df_train)[:,1]\n",
        "y_valid_preds = rf.predict_proba(df_validate)[:,1]\n",
        "y_test_preds = rf.predict_proba(df_test)[:,1]\n",
        "\n",
        "print('Random Forest')\n",
        "print('Training:')\n",
        "rf_train_auc, rf_train_accuracy, rf_train_recall, rf_train_precision, rf_train_specificity =print_report(y_train,y_train_preds, thresh)\n",
        "print('Validation:')\n",
        "rf_valid_auc, rf_valid_accuracy, rf_valid_recall, rf_valid_precision, rf_valid_specificity = print_report(y_validate,y_valid_preds, thresh)\n",
        "print('Test')\n",
        "rf_test_auc, rf_test_accuracy, rf_test_recall, rf_test_precision, rf_test_specificity = print_report(y_test, y_test_preds, thresh)"
      ],
      "execution_count": null,
      "outputs": [
        {
          "output_type": "stream",
          "text": [
            "Random Forest\n",
            "Training:\n",
            "AUC:0.708\n",
            "accuracy:0.887\n",
            "recall:0.144\n",
            "precision:0.491\n",
            "specificity:0.981\n",
            "prevalence:0.113\n",
            " \n",
            "Validation:\n",
            "AUC:0.657\n",
            "accuracy:0.876\n",
            "recall:0.090\n",
            "precision:0.330\n",
            "specificity:0.976\n",
            "prevalence:0.114\n",
            " \n",
            "Test\n",
            "AUC:0.669\n",
            "accuracy:0.874\n",
            "recall:0.099\n",
            "precision:0.345\n",
            "specificity:0.975\n",
            "prevalence:0.116\n",
            " \n"
          ],
          "name": "stdout"
        }
      ]
    },
    {
      "cell_type": "code",
      "metadata": {
        "id": "FFXq-biBxRkF",
        "colab": {
          "base_uri": "https://localhost:8080/",
          "height": 467
        },
        "outputId": "ed3fdf18-8daa-4cdb-8080-af2f37b2d557"
      },
      "source": [
        "thresh = 0.2\n",
        "from sklearn.ensemble import RandomForestClassifier\n",
        "rf=RandomForestClassifier(max_depth = 8, random_state = 42)\n",
        "rf.fit(df_train, y_train)\n",
        "\n",
        "y_train_preds = rf.predict_proba(df_train)[:,1]\n",
        "y_valid_preds = rf.predict_proba(df_validate)[:,1]\n",
        "y_test_preds = rf.predict_proba(df_test)[:,1]\n",
        "\n",
        "print('Random Forest with diag_123')\n",
        "print('Training:')\n",
        "rf_train_auc, rf_train_accuracy, rf_train_recall, rf_train_precision, rf_train_specificity =print_report(y_train,y_train_preds, thresh)\n",
        "print('Validation:')\n",
        "rf_valid_auc, rf_valid_accuracy, rf_valid_recall, rf_valid_precision, rf_valid_specificity = print_report(y_validate,y_valid_preds, thresh)\n",
        "print('Test')\n",
        "rf_test_auc, rf_test_accuracy, rf_test_recall, rf_test_precision, rf_test_specificity = print_report(y_test, y_test_preds, thresh)"
      ],
      "execution_count": null,
      "outputs": [
        {
          "output_type": "stream",
          "text": [
            "Random Forest with diag_123\n",
            "Training:\n",
            "AUC:0.708\n",
            "accuracy:0.887\n",
            "recall:0.144\n",
            "precision:0.491\n",
            "specificity:0.981\n",
            "prevalence:0.113\n",
            " \n",
            "Validation:\n",
            "AUC:0.657\n",
            "accuracy:0.876\n",
            "recall:0.090\n",
            "precision:0.330\n",
            "specificity:0.976\n",
            "prevalence:0.114\n",
            " \n",
            "Test\n",
            "AUC:0.669\n",
            "accuracy:0.874\n",
            "recall:0.099\n",
            "precision:0.345\n",
            "specificity:0.975\n",
            "prevalence:0.116\n",
            " \n"
          ],
          "name": "stdout"
        }
      ]
    },
    {
      "cell_type": "markdown",
      "metadata": {
        "id": "F55t4Cl7sFhn"
      },
      "source": [
        "Optimize Random Forest"
      ]
    },
    {
      "cell_type": "markdown",
      "metadata": {
        "id": "riuE9GMYsICK"
      },
      "source": [
        "Hyperparameter tuning: the desgin decisions that made when set up the machine learning model. Eg, the maximum depth for random forest.\n",
        "Here we will use a technique called Grid search where we can test all possible combinations of parameters"
      ]
    },
    {
      "cell_type": "code",
      "metadata": {
        "id": "sGwazBLmsvg-",
        "colab": {
          "base_uri": "https://localhost:8080/",
          "height": 359
        },
        "outputId": "d0c3950f-b1b5-40aa-c620-0884b0a1db5e"
      },
      "source": [
        "rf.get_params()"
      ],
      "execution_count": null,
      "outputs": [
        {
          "output_type": "execute_result",
          "data": {
            "text/plain": [
              "{'bootstrap': True,\n",
              " 'ccp_alpha': 0.0,\n",
              " 'class_weight': None,\n",
              " 'criterion': 'gini',\n",
              " 'max_depth': 8,\n",
              " 'max_features': 'auto',\n",
              " 'max_leaf_nodes': None,\n",
              " 'max_samples': None,\n",
              " 'min_impurity_decrease': 0.0,\n",
              " 'min_impurity_split': None,\n",
              " 'min_samples_leaf': 1,\n",
              " 'min_samples_split': 2,\n",
              " 'min_weight_fraction_leaf': 0.0,\n",
              " 'n_estimators': 100,\n",
              " 'n_jobs': None,\n",
              " 'oob_score': False,\n",
              " 'random_state': 42,\n",
              " 'verbose': 0,\n",
              " 'warm_start': False}"
            ]
          },
          "metadata": {
            "tags": []
          },
          "execution_count": 52
        }
      ]
    },
    {
      "cell_type": "markdown",
      "metadata": {
        "id": "87NKZunys_C7"
      },
      "source": [
        "Now we will create a grid over a few of these"
      ]
    },
    {
      "cell_type": "code",
      "metadata": {
        "id": "iOPqs3mls13n",
        "colab": {
          "base_uri": "https://localhost:8080/",
          "height": 55
        },
        "outputId": "bbb29b43-8efb-439a-b28a-4fee344d0c5f"
      },
      "source": [
        "from sklearn.model_selection import RandomizedSearchCV\n",
        "\n",
        "# number of trees\n",
        "n_estimators = range(200,1000,200)\n",
        "# maximum number of features to use at each split\n",
        "max_features = ['auto','sqrt']\n",
        "# maximum depth of the tree\n",
        "max_depth = range(1,15,1)\n",
        "# minimum number of samples to split a node\n",
        "min_samples_split = range(2,10,2)\n",
        "# criterion for evaluating a split\n",
        "criterion = ['gini','entropy']\n",
        "\n",
        "# random grid\n",
        "\n",
        "random_grid = {'n_estimators':n_estimators,\n",
        "              'max_features':max_features,\n",
        "              'max_depth':max_depth,\n",
        "              'min_samples_split':min_samples_split,\n",
        "              'criterion':criterion}\n",
        "\n",
        "print(random_grid)"
      ],
      "execution_count": null,
      "outputs": [
        {
          "output_type": "stream",
          "text": [
            "{'n_estimators': range(200, 1000, 200), 'max_features': ['auto', 'sqrt'], 'max_depth': range(1, 15), 'min_samples_split': range(2, 10, 2), 'criterion': ['gini', 'entropy']}\n"
          ],
          "name": "stdout"
        }
      ]
    },
    {
      "cell_type": "markdown",
      "metadata": {
        "id": "byONNE9jtuHQ"
      },
      "source": [
        "Score/evaluate hyperparameters"
      ]
    },
    {
      "cell_type": "code",
      "metadata": {
        "id": "07h5lFcutUTB"
      },
      "source": [
        "from sklearn.metrics import make_scorer, roc_auc_score\n",
        "auc_scoring = make_scorer(roc_auc_score)\n",
        "\n",
        "# create the randomized search cross-validation\n",
        "rf_random = RandomizedSearchCV(estimator = rf, param_distributions = random_grid, \n",
        "                               n_iter = 20, cv = 2, scoring=auc_scoring,\n",
        "                               verbose = 1, random_state = 42)"
      ],
      "execution_count": null,
      "outputs": []
    },
    {
      "cell_type": "markdown",
      "metadata": {
        "id": "hW-eBMRkt74k"
      },
      "source": [
        "scoring = evaluation metric used to pick the best model\n",
        "\n",
        "n_iter = number of different combinations\n",
        "\n",
        "cv = number of cros-validaiton splits\n",
        "\n",
        "Increasing the last two of these will increase the run-time, but will decrease chance of overfitting.  Note that the number of variables and grid size also influences the runtime. Cross-validation is a technique for splitting the data multiple times to get a better estimate of the performance metric. For the purposes of this tutorial, we will restrict to 2 CV to reduce the time."
      ]
    },
    {
      "cell_type": "code",
      "metadata": {
        "id": "DjnM9TmsuP_J",
        "colab": {
          "base_uri": "https://localhost:8080/",
          "height": 89
        },
        "outputId": "9b140352-c0db-4b9e-c982-ee93ba3abd27"
      },
      "source": [
        "# fit the random search model (this will take a few minutes)\n",
        "t1 = time.time()\n",
        "rf_random.fit(df_train, y_train)\n",
        "t2 = time.time()\n",
        "print(t2-t1)"
      ],
      "execution_count": null,
      "outputs": [
        {
          "output_type": "stream",
          "text": [
            "Fitting 2 folds for each of 20 candidates, totalling 40 fits\n"
          ],
          "name": "stdout"
        },
        {
          "output_type": "stream",
          "text": [
            "[Parallel(n_jobs=1)]: Using backend SequentialBackend with 1 concurrent workers.\n",
            "[Parallel(n_jobs=1)]: Done  40 out of  40 | elapsed:  7.0min finished\n"
          ],
          "name": "stderr"
        },
        {
          "output_type": "stream",
          "text": [
            "429.6468708515167\n"
          ],
          "name": "stdout"
        }
      ]
    },
    {
      "cell_type": "code",
      "metadata": {
        "id": "b4fVB62UvXtp",
        "colab": {
          "base_uri": "https://localhost:8080/",
          "height": 107
        },
        "outputId": "8417befc-aeb4-4e89-a95f-db2612f3fb8d"
      },
      "source": [
        "rf_random.best_params_    # see the best parameters"
      ],
      "execution_count": null,
      "outputs": [
        {
          "output_type": "execute_result",
          "data": {
            "text/plain": [
              "{'criterion': 'gini',\n",
              " 'max_depth': 14,\n",
              " 'max_features': 'sqrt',\n",
              " 'min_samples_split': 6,\n",
              " 'n_estimators': 200}"
            ]
          },
          "metadata": {
            "tags": []
          },
          "execution_count": 56
        }
      ]
    },
    {
      "cell_type": "code",
      "metadata": {
        "id": "e-zgPKKjGPrW",
        "colab": {
          "base_uri": "https://localhost:8080/",
          "height": 359
        },
        "outputId": "de6bef13-7b75-4d1b-d302-de896c0866d0"
      },
      "source": [
        "rf.get_params()"
      ],
      "execution_count": null,
      "outputs": [
        {
          "output_type": "execute_result",
          "data": {
            "text/plain": [
              "{'bootstrap': True,\n",
              " 'ccp_alpha': 0.0,\n",
              " 'class_weight': None,\n",
              " 'criterion': 'gini',\n",
              " 'max_depth': 8,\n",
              " 'max_features': 'auto',\n",
              " 'max_leaf_nodes': None,\n",
              " 'max_samples': None,\n",
              " 'min_impurity_decrease': 0.0,\n",
              " 'min_impurity_split': None,\n",
              " 'min_samples_leaf': 1,\n",
              " 'min_samples_split': 2,\n",
              " 'min_weight_fraction_leaf': 0.0,\n",
              " 'n_estimators': 100,\n",
              " 'n_jobs': None,\n",
              " 'oob_score': False,\n",
              " 'random_state': 42,\n",
              " 'verbose': 0,\n",
              " 'warm_start': False}"
            ]
          },
          "metadata": {
            "tags": []
          },
          "execution_count": 57
        }
      ]
    },
    {
      "cell_type": "code",
      "metadata": {
        "id": "oqPt2WLwvV94",
        "colab": {
          "base_uri": "https://localhost:8080/",
          "height": 323
        },
        "outputId": "00d145ba-10fc-43be-a7f4-37386ea0eb5e"
      },
      "source": [
        "rf_opt=RandomForestClassifier(criterion='gini',max_depth = 14, random_state = 42,\n",
        "                          max_features = 'sqrt',min_samples_split=6,\n",
        "                          n_estimators=200)\n",
        "rf_opt.fit(df_train, y_train)\n",
        "\n",
        "\n",
        "y_train_preds_opt = rf_opt.predict_proba(df_train)[:,1]\n",
        "y_valid_preds_opt = rf_opt.predict_proba(df_validate)[:,1]\n",
        "\n",
        "print('Optimized Random Forest')\n",
        "print('Training:')\n",
        "rf_train_auc, rf_train_accuracy, rf_train_recall, rf_train_precision, rf_train_specificity =print_report(y_train,y_train_preds_opt, thresh)\n",
        "print('Validation:')\n",
        "rf_valid_auc, rf_valid_accuracy, rf_valid_recall, rf_valid_precision, rf_valid_specificity = print_report(y_validate,y_valid_preds_opt, thresh)"
      ],
      "execution_count": null,
      "outputs": [
        {
          "output_type": "stream",
          "text": [
            "Optimized Random Forest\n",
            "Training:\n",
            "AUC:0.886\n",
            "accuracy:0.921\n",
            "recall:0.439\n",
            "precision:0.763\n",
            "specificity:0.983\n",
            "prevalence:0.113\n",
            " \n",
            "Validation:\n",
            "AUC:0.658\n",
            "accuracy:0.863\n",
            "recall:0.154\n",
            "precision:0.302\n",
            "specificity:0.954\n",
            "prevalence:0.114\n",
            " \n"
          ],
          "name": "stdout"
        }
      ]
    },
    {
      "cell_type": "markdown",
      "metadata": {
        "id": "JDnZk16S4wD_"
      },
      "source": [
        "The validation AUC before optimization is 0.662.\n",
        "It seems that optimizing RF model doesn't improve performance a lot..."
      ]
    },
    {
      "cell_type": "markdown",
      "metadata": {
        "id": "75Z2vjtb6zsd"
      },
      "source": [
        "Neural Network"
      ]
    },
    {
      "cell_type": "code",
      "metadata": {
        "id": "UYMT1zuujuLE",
        "colab": {
          "base_uri": "https://localhost:8080/",
          "height": 340
        },
        "outputId": "bc881d07-5789-467f-985a-a1e0dd4e566a"
      },
      "source": [
        "from sklearn.neural_network import MLPClassifier\n",
        "nn = MLPClassifier(solver='adam',alpha=1e-5,random_state=1,activation='tanh')\n",
        "\n",
        "nn.fit(df_train, y_train)\n",
        "\n",
        "y_train_preds = nn.predict_proba(df_train)[:,1]\n",
        "y_valid_preds = nn.predict_proba(df_validate)[:,1]\n",
        "\n",
        "print('Neural Network')\n",
        "print('Training:')\n",
        "nn_train_auc, nn_train_accuracy, nn_train_recall, nn_train_precision, nn_train_specificity =print_report(y_train,y_train_preds, thresh)\n",
        "print('Validation:')\n",
        "nn_valid_auc, nn_valid_accuracy, nn_valid_recall, nn_valid_precision, nn_valid_specificity = print_report(y_validate,y_valid_preds, thresh)"
      ],
      "execution_count": null,
      "outputs": [
        {
          "output_type": "stream",
          "text": [
            "/usr/local/lib/python3.6/dist-packages/sklearn/neural_network/_multilayer_perceptron.py:571: ConvergenceWarning: Stochastic Optimizer: Maximum iterations (200) reached and the optimization hasn't converged yet.\n",
            "  % self.max_iter, ConvergenceWarning)\n"
          ],
          "name": "stderr"
        },
        {
          "output_type": "stream",
          "text": [
            "Neural Network\n",
            "Training:\n",
            "AUC:0.771\n",
            "accuracy:0.894\n",
            "recall:0.089\n",
            "precision:0.733\n",
            "specificity:0.996\n",
            "prevalence:0.113\n",
            " \n",
            "Validation:\n",
            "AUC:0.613\n",
            "accuracy:0.880\n",
            "recall:0.034\n",
            "precision:0.278\n",
            "specificity:0.989\n",
            "prevalence:0.114\n",
            " \n"
          ],
          "name": "stdout"
        }
      ]
    },
    {
      "cell_type": "markdown",
      "metadata": {
        "id": "It5-RS5xI1Qo"
      },
      "source": [
        "Optimize Neural Network"
      ]
    },
    {
      "cell_type": "code",
      "metadata": {
        "id": "vS-e_-3g4_Qp",
        "colab": {
          "base_uri": "https://localhost:8080/",
          "height": 408
        },
        "outputId": "87447818-6798-4ec9-a9a2-0673bb851d7e"
      },
      "source": [
        "nn.get_params()"
      ],
      "execution_count": null,
      "outputs": [
        {
          "output_type": "execute_result",
          "data": {
            "text/plain": [
              "{'activation': 'tanh',\n",
              " 'alpha': 1e-05,\n",
              " 'batch_size': 'auto',\n",
              " 'beta_1': 0.9,\n",
              " 'beta_2': 0.999,\n",
              " 'early_stopping': False,\n",
              " 'epsilon': 1e-08,\n",
              " 'hidden_layer_sizes': (100,),\n",
              " 'learning_rate': 'constant',\n",
              " 'learning_rate_init': 0.001,\n",
              " 'max_fun': 15000,\n",
              " 'max_iter': 200,\n",
              " 'momentum': 0.9,\n",
              " 'n_iter_no_change': 10,\n",
              " 'nesterovs_momentum': True,\n",
              " 'power_t': 0.5,\n",
              " 'random_state': 1,\n",
              " 'shuffle': True,\n",
              " 'solver': 'adam',\n",
              " 'tol': 0.0001,\n",
              " 'validation_fraction': 0.1,\n",
              " 'verbose': False,\n",
              " 'warm_start': False}"
            ]
          },
          "metadata": {
            "tags": []
          },
          "execution_count": 261
        }
      ]
    },
    {
      "cell_type": "code",
      "metadata": {
        "id": "3VSI_nrg5BTl",
        "colab": {
          "base_uri": "https://localhost:8080/",
          "height": 54
        },
        "outputId": "998b372c-cf36-4b46-c642-f05ba0fd7a3b"
      },
      "source": [
        "activation = ['identity','logistic','tanh','relu']\n",
        "hidden_layer_sizes = []\n",
        "for i in range(50,210,10):\n",
        "  hidden_layer_sizes.append((i,))\n",
        "solver = ['lbfgs','sgd','adam']\n",
        "learning_rate = ['constant','invscaling','adaptive']\n",
        "\n",
        "\n",
        "nn_grid = {'activation':activation, 'hidden_layer_sizes':hidden_layer_sizes,\n",
        "           'solver':solver, 'learning_rate':learning_rate}\n",
        "\n",
        "print(nn_grid)"
      ],
      "execution_count": null,
      "outputs": [
        {
          "output_type": "stream",
          "text": [
            "{'activation': ['identity', 'logistic', 'tanh', 'relu'], 'hidden_layer_sizes': [(50,), (60,), (70,), (80,), (90,), (100,), (110,), (120,), (130,), (140,), (150,), (160,), (170,), (180,), (190,), (200,)], 'solver': ['lbfgs', 'sgd', 'adam'], 'learning_rate': ['constant', 'invscaling', 'adaptive']}\n"
          ],
          "name": "stdout"
        }
      ]
    },
    {
      "cell_type": "code",
      "metadata": {
        "id": "D3yiUEM66ptQ",
        "colab": {
          "base_uri": "https://localhost:8080/",
          "height": 1000
        },
        "outputId": "610156e5-0255-4df6-f654-9ba39a6d1e75"
      },
      "source": [
        "nn_random = RandomizedSearchCV(estimator = nn, param_distributions = nn_grid, \n",
        "                               n_iter = 20, cv = 2, scoring=auc_scoring,\n",
        "                               verbose = 1, random_state = 42)\n",
        "\n",
        "t1 = time.time()\n",
        "nn_random.fit(df_train, y_train)\n",
        "t2 = time.time()\n",
        "print(t2-t1)"
      ],
      "execution_count": null,
      "outputs": [
        {
          "output_type": "stream",
          "text": [
            "Fitting 2 folds for each of 20 candidates, totalling 40 fits\n"
          ],
          "name": "stdout"
        },
        {
          "output_type": "stream",
          "text": [
            "[Parallel(n_jobs=1)]: Using backend SequentialBackend with 1 concurrent workers.\n",
            "/usr/local/lib/python3.6/dist-packages/sklearn/neural_network/_multilayer_perceptron.py:470: ConvergenceWarning: lbfgs failed to converge (status=1):\n",
            "STOP: TOTAL NO. of ITERATIONS REACHED LIMIT.\n",
            "\n",
            "Increase the number of iterations (max_iter) or scale the data as shown in:\n",
            "    https://scikit-learn.org/stable/modules/preprocessing.html\n",
            "  self.n_iter_ = _check_optimize_result(\"lbfgs\", opt_res, self.max_iter)\n",
            "/usr/local/lib/python3.6/dist-packages/sklearn/neural_network/_multilayer_perceptron.py:470: ConvergenceWarning: lbfgs failed to converge (status=1):\n",
            "STOP: TOTAL NO. of ITERATIONS REACHED LIMIT.\n",
            "\n",
            "Increase the number of iterations (max_iter) or scale the data as shown in:\n",
            "    https://scikit-learn.org/stable/modules/preprocessing.html\n",
            "  self.n_iter_ = _check_optimize_result(\"lbfgs\", opt_res, self.max_iter)\n",
            "/usr/local/lib/python3.6/dist-packages/sklearn/neural_network/_multilayer_perceptron.py:470: ConvergenceWarning: lbfgs failed to converge (status=1):\n",
            "STOP: TOTAL NO. of ITERATIONS REACHED LIMIT.\n",
            "\n",
            "Increase the number of iterations (max_iter) or scale the data as shown in:\n",
            "    https://scikit-learn.org/stable/modules/preprocessing.html\n",
            "  self.n_iter_ = _check_optimize_result(\"lbfgs\", opt_res, self.max_iter)\n",
            "/usr/local/lib/python3.6/dist-packages/sklearn/neural_network/_multilayer_perceptron.py:470: ConvergenceWarning: lbfgs failed to converge (status=1):\n",
            "STOP: TOTAL NO. of ITERATIONS REACHED LIMIT.\n",
            "\n",
            "Increase the number of iterations (max_iter) or scale the data as shown in:\n",
            "    https://scikit-learn.org/stable/modules/preprocessing.html\n",
            "  self.n_iter_ = _check_optimize_result(\"lbfgs\", opt_res, self.max_iter)\n",
            "/usr/local/lib/python3.6/dist-packages/sklearn/neural_network/_multilayer_perceptron.py:470: ConvergenceWarning: lbfgs failed to converge (status=1):\n",
            "STOP: TOTAL NO. of ITERATIONS REACHED LIMIT.\n",
            "\n",
            "Increase the number of iterations (max_iter) or scale the data as shown in:\n",
            "    https://scikit-learn.org/stable/modules/preprocessing.html\n",
            "  self.n_iter_ = _check_optimize_result(\"lbfgs\", opt_res, self.max_iter)\n",
            "/usr/local/lib/python3.6/dist-packages/sklearn/neural_network/_multilayer_perceptron.py:470: ConvergenceWarning: lbfgs failed to converge (status=1):\n",
            "STOP: TOTAL NO. of ITERATIONS REACHED LIMIT.\n",
            "\n",
            "Increase the number of iterations (max_iter) or scale the data as shown in:\n",
            "    https://scikit-learn.org/stable/modules/preprocessing.html\n",
            "  self.n_iter_ = _check_optimize_result(\"lbfgs\", opt_res, self.max_iter)\n",
            "/usr/local/lib/python3.6/dist-packages/sklearn/neural_network/_multilayer_perceptron.py:571: ConvergenceWarning: Stochastic Optimizer: Maximum iterations (200) reached and the optimization hasn't converged yet.\n",
            "  % self.max_iter, ConvergenceWarning)\n",
            "/usr/local/lib/python3.6/dist-packages/sklearn/neural_network/_multilayer_perceptron.py:571: ConvergenceWarning: Stochastic Optimizer: Maximum iterations (200) reached and the optimization hasn't converged yet.\n",
            "  % self.max_iter, ConvergenceWarning)\n",
            "/usr/local/lib/python3.6/dist-packages/sklearn/neural_network/_multilayer_perceptron.py:571: ConvergenceWarning: Stochastic Optimizer: Maximum iterations (200) reached and the optimization hasn't converged yet.\n",
            "  % self.max_iter, ConvergenceWarning)\n",
            "/usr/local/lib/python3.6/dist-packages/sklearn/neural_network/_multilayer_perceptron.py:571: ConvergenceWarning: Stochastic Optimizer: Maximum iterations (200) reached and the optimization hasn't converged yet.\n",
            "  % self.max_iter, ConvergenceWarning)\n",
            "/usr/local/lib/python3.6/dist-packages/sklearn/neural_network/_multilayer_perceptron.py:470: ConvergenceWarning: lbfgs failed to converge (status=1):\n",
            "STOP: TOTAL NO. of ITERATIONS REACHED LIMIT.\n",
            "\n",
            "Increase the number of iterations (max_iter) or scale the data as shown in:\n",
            "    https://scikit-learn.org/stable/modules/preprocessing.html\n",
            "  self.n_iter_ = _check_optimize_result(\"lbfgs\", opt_res, self.max_iter)\n",
            "/usr/local/lib/python3.6/dist-packages/sklearn/neural_network/_multilayer_perceptron.py:470: ConvergenceWarning: lbfgs failed to converge (status=1):\n",
            "STOP: TOTAL NO. of ITERATIONS REACHED LIMIT.\n",
            "\n",
            "Increase the number of iterations (max_iter) or scale the data as shown in:\n",
            "    https://scikit-learn.org/stable/modules/preprocessing.html\n",
            "  self.n_iter_ = _check_optimize_result(\"lbfgs\", opt_res, self.max_iter)\n",
            "/usr/local/lib/python3.6/dist-packages/sklearn/neural_network/_multilayer_perceptron.py:571: ConvergenceWarning: Stochastic Optimizer: Maximum iterations (200) reached and the optimization hasn't converged yet.\n",
            "  % self.max_iter, ConvergenceWarning)\n",
            "/usr/local/lib/python3.6/dist-packages/sklearn/neural_network/_multilayer_perceptron.py:571: ConvergenceWarning: Stochastic Optimizer: Maximum iterations (200) reached and the optimization hasn't converged yet.\n",
            "  % self.max_iter, ConvergenceWarning)\n",
            "/usr/local/lib/python3.6/dist-packages/sklearn/neural_network/_multilayer_perceptron.py:571: ConvergenceWarning: Stochastic Optimizer: Maximum iterations (200) reached and the optimization hasn't converged yet.\n",
            "  % self.max_iter, ConvergenceWarning)\n",
            "/usr/local/lib/python3.6/dist-packages/sklearn/neural_network/_multilayer_perceptron.py:571: ConvergenceWarning: Stochastic Optimizer: Maximum iterations (200) reached and the optimization hasn't converged yet.\n",
            "  % self.max_iter, ConvergenceWarning)\n",
            "/usr/local/lib/python3.6/dist-packages/sklearn/neural_network/_multilayer_perceptron.py:571: ConvergenceWarning: Stochastic Optimizer: Maximum iterations (200) reached and the optimization hasn't converged yet.\n",
            "  % self.max_iter, ConvergenceWarning)\n",
            "/usr/local/lib/python3.6/dist-packages/sklearn/neural_network/_multilayer_perceptron.py:571: ConvergenceWarning: Stochastic Optimizer: Maximum iterations (200) reached and the optimization hasn't converged yet.\n",
            "  % self.max_iter, ConvergenceWarning)\n",
            "/usr/local/lib/python3.6/dist-packages/sklearn/neural_network/_multilayer_perceptron.py:571: ConvergenceWarning: Stochastic Optimizer: Maximum iterations (200) reached and the optimization hasn't converged yet.\n",
            "  % self.max_iter, ConvergenceWarning)\n",
            "/usr/local/lib/python3.6/dist-packages/sklearn/neural_network/_multilayer_perceptron.py:571: ConvergenceWarning: Stochastic Optimizer: Maximum iterations (200) reached and the optimization hasn't converged yet.\n",
            "  % self.max_iter, ConvergenceWarning)\n",
            "/usr/local/lib/python3.6/dist-packages/sklearn/neural_network/_multilayer_perceptron.py:470: ConvergenceWarning: lbfgs failed to converge (status=1):\n",
            "STOP: TOTAL NO. of ITERATIONS REACHED LIMIT.\n",
            "\n",
            "Increase the number of iterations (max_iter) or scale the data as shown in:\n",
            "    https://scikit-learn.org/stable/modules/preprocessing.html\n",
            "  self.n_iter_ = _check_optimize_result(\"lbfgs\", opt_res, self.max_iter)\n",
            "/usr/local/lib/python3.6/dist-packages/sklearn/neural_network/_multilayer_perceptron.py:470: ConvergenceWarning: lbfgs failed to converge (status=1):\n",
            "STOP: TOTAL NO. of ITERATIONS REACHED LIMIT.\n",
            "\n",
            "Increase the number of iterations (max_iter) or scale the data as shown in:\n",
            "    https://scikit-learn.org/stable/modules/preprocessing.html\n",
            "  self.n_iter_ = _check_optimize_result(\"lbfgs\", opt_res, self.max_iter)\n",
            "[Parallel(n_jobs=1)]: Done  40 out of  40 | elapsed: 25.0min finished\n"
          ],
          "name": "stderr"
        },
        {
          "output_type": "stream",
          "text": [
            "1683.8589251041412\n"
          ],
          "name": "stdout"
        },
        {
          "output_type": "stream",
          "text": [
            "/usr/local/lib/python3.6/dist-packages/sklearn/neural_network/_multilayer_perceptron.py:571: ConvergenceWarning: Stochastic Optimizer: Maximum iterations (200) reached and the optimization hasn't converged yet.\n",
            "  % self.max_iter, ConvergenceWarning)\n"
          ],
          "name": "stderr"
        }
      ]
    },
    {
      "cell_type": "code",
      "metadata": {
        "id": "jWuD_YUq609B",
        "colab": {
          "base_uri": "https://localhost:8080/",
          "height": 85
        },
        "outputId": "c0a6f888-dc4d-4c9f-89dd-71c465e83d07"
      },
      "source": [
        "nn_random.best_params_ "
      ],
      "execution_count": null,
      "outputs": [
        {
          "output_type": "execute_result",
          "data": {
            "text/plain": [
              "{'activation': 'tanh',\n",
              " 'hidden_layer_sizes': (150,),\n",
              " 'learning_rate': 'constant',\n",
              " 'solver': 'adam'}"
            ]
          },
          "metadata": {
            "tags": []
          },
          "execution_count": 264
        }
      ]
    },
    {
      "cell_type": "code",
      "metadata": {
        "id": "ELw2cS3m-KlI",
        "colab": {
          "base_uri": "https://localhost:8080/",
          "height": 306
        },
        "outputId": "872dead1-c9dc-4387-e71a-4a0099a904bb"
      },
      "source": [
        "nn_opt = MLPClassifier(solver='adam',learning_rate='constant',\n",
        "                             hidden_layer_sizes=(80,),activation='identity')\n",
        "nn_opt.fit(df_train, y_train)\n",
        "\n",
        "\n",
        "y_train_preds_opt = nn_opt.predict_proba(df_train)[:,1]\n",
        "y_valid_preds_opt = nn_opt.predict_proba(df_validate)[:,1]\n",
        "\n",
        "print('Optimized Random Forest')\n",
        "print('Training:')\n",
        "nn_train_auc, nn_train_accuracy, nn_train_recall, nn_train_precision, nn_train_specificity = print_report(y_train,y_train_preds_opt, thresh)\n",
        "print('Validation:')\n",
        "nn_valid_auc, nn_valid_accuracy, nn_valid_recall, nn_valid_precision, nn_valid_specificity = print_report(y_validate,y_valid_preds_opt, thresh)"
      ],
      "execution_count": null,
      "outputs": [
        {
          "output_type": "stream",
          "text": [
            "Optimized Random Forest\n",
            "Training:\n",
            "AUC:0.643\n",
            "accuracy:0.887\n",
            "recall:0.016\n",
            "precision:0.473\n",
            "specificity:0.998\n",
            "prevalence:0.113\n",
            " \n",
            "Validation:\n",
            "AUC:0.632\n",
            "accuracy:0.886\n",
            "recall:0.014\n",
            "precision:0.471\n",
            "specificity:0.998\n",
            "prevalence:0.114\n",
            " \n"
          ],
          "name": "stdout"
        }
      ]
    }
  ]
}